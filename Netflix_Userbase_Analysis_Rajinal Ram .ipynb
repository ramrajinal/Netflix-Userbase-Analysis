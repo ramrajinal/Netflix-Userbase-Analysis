{
 "cells": [
  {
   "cell_type": "markdown",
   "id": "3bc091ed",
   "metadata": {},
   "source": [
    "\n",
    "# Netflix Userbase Analysis\n",
    "\n",
    "## Introduction\n",
    "This notebook presents a thorough analysis of a Netflix userbase dataset. The goal is to uncover insights into user demographics, subscription preferences, and usage patterns.\n",
    "\n",
    "### Dataset Description\n",
    "The dataset includes the following columns:\n",
    "- **User ID**: The unique identifier for each user.\n",
    "- **Subscription Type**: Type of subscription (Basic, Premium, Standard).\n",
    "- **Monthly Revenue**: Monthly revenue per user.\n",
    "- **Join Date**: When the user joined Netflix.\n",
    "- **Last Payment Date**: Most recent payment date.\n",
    "- **Country**: Country of the user.\n",
    "- **Age**: Age of the user.\n",
    "- **Gender**: Gender of the user.\n",
    "- **Device**: Device used for streaming.\n",
    "- **Plan Duration**: Duration of the subscription plan.\n",
    "- **Tenure (Months)**: Calculated tenure of the user in months.\n",
    "\n",
    "### Objectives\n",
    "- Perform data cleaning and standardization.\n",
    "- Conduct exploratory data analysis.\n",
    "- Answer specific research questions.\n",
    "- Provide visual insights and statistical analysis.\n"
   ]
  },
  {
   "cell_type": "markdown",
   "id": "2716816a",
   "metadata": {},
   "source": [
    "\n",
    "## Data Loading and Cleaning\n",
    "\n",
    "We load the data from a CSV file, convert date columns to a uniform format, handle any missing or erroneous data entries, and calculate the tenure in months.\n"
   ]
  },
  {
   "cell_type": "code",
   "execution_count": 8,
   "id": "7d512c7a",
   "metadata": {},
   "outputs": [
    {
     "data": {
      "text/html": [
       "<div>\n",
       "<style scoped>\n",
       "    .dataframe tbody tr th:only-of-type {\n",
       "        vertical-align: middle;\n",
       "    }\n",
       "\n",
       "    .dataframe tbody tr th {\n",
       "        vertical-align: top;\n",
       "    }\n",
       "\n",
       "    .dataframe thead th {\n",
       "        text-align: right;\n",
       "    }\n",
       "</style>\n",
       "<table border=\"1\" class=\"dataframe\">\n",
       "  <thead>\n",
       "    <tr style=\"text-align: right;\">\n",
       "      <th></th>\n",
       "      <th>User ID</th>\n",
       "      <th>Subscription Type</th>\n",
       "      <th>Monthly Revenue</th>\n",
       "      <th>Join Date</th>\n",
       "      <th>Last Payment Date</th>\n",
       "      <th>Country</th>\n",
       "      <th>Age</th>\n",
       "      <th>Gender</th>\n",
       "      <th>Device</th>\n",
       "      <th>Plan Duration</th>\n",
       "      <th>Tenure (Months)</th>\n",
       "    </tr>\n",
       "  </thead>\n",
       "  <tbody>\n",
       "    <tr>\n",
       "      <th>0</th>\n",
       "      <td>1</td>\n",
       "      <td>Basic</td>\n",
       "      <td>10</td>\n",
       "      <td>NaT</td>\n",
       "      <td>NaT</td>\n",
       "      <td>United States</td>\n",
       "      <td>28</td>\n",
       "      <td>Male</td>\n",
       "      <td>Smartphone</td>\n",
       "      <td>1 Month</td>\n",
       "      <td>NaN</td>\n",
       "    </tr>\n",
       "    <tr>\n",
       "      <th>1</th>\n",
       "      <td>2</td>\n",
       "      <td>Premium</td>\n",
       "      <td>15</td>\n",
       "      <td>NaT</td>\n",
       "      <td>NaT</td>\n",
       "      <td>Canada</td>\n",
       "      <td>35</td>\n",
       "      <td>Female</td>\n",
       "      <td>Tablet</td>\n",
       "      <td>1 Month</td>\n",
       "      <td>NaN</td>\n",
       "    </tr>\n",
       "    <tr>\n",
       "      <th>2</th>\n",
       "      <td>3</td>\n",
       "      <td>Standard</td>\n",
       "      <td>12</td>\n",
       "      <td>NaT</td>\n",
       "      <td>NaT</td>\n",
       "      <td>United Kingdom</td>\n",
       "      <td>42</td>\n",
       "      <td>Male</td>\n",
       "      <td>Smart TV</td>\n",
       "      <td>1 Month</td>\n",
       "      <td>NaN</td>\n",
       "    </tr>\n",
       "    <tr>\n",
       "      <th>3</th>\n",
       "      <td>4</td>\n",
       "      <td>Standard</td>\n",
       "      <td>12</td>\n",
       "      <td>NaT</td>\n",
       "      <td>NaT</td>\n",
       "      <td>Australia</td>\n",
       "      <td>51</td>\n",
       "      <td>Female</td>\n",
       "      <td>Laptop</td>\n",
       "      <td>1 Month</td>\n",
       "      <td>NaN</td>\n",
       "    </tr>\n",
       "    <tr>\n",
       "      <th>4</th>\n",
       "      <td>5</td>\n",
       "      <td>Basic</td>\n",
       "      <td>10</td>\n",
       "      <td>NaT</td>\n",
       "      <td>NaT</td>\n",
       "      <td>Germany</td>\n",
       "      <td>33</td>\n",
       "      <td>Male</td>\n",
       "      <td>Smartphone</td>\n",
       "      <td>1 Month</td>\n",
       "      <td>NaN</td>\n",
       "    </tr>\n",
       "  </tbody>\n",
       "</table>\n",
       "</div>"
      ],
      "text/plain": [
       "   User ID Subscription Type  Monthly Revenue Join Date Last Payment Date  \\\n",
       "0        1             Basic               10       NaT               NaT   \n",
       "1        2           Premium               15       NaT               NaT   \n",
       "2        3          Standard               12       NaT               NaT   \n",
       "3        4          Standard               12       NaT               NaT   \n",
       "4        5             Basic               10       NaT               NaT   \n",
       "\n",
       "          Country  Age  Gender      Device Plan Duration  Tenure (Months)  \n",
       "0   United States   28    Male  Smartphone       1 Month              NaN  \n",
       "1          Canada   35  Female      Tablet       1 Month              NaN  \n",
       "2  United Kingdom   42    Male    Smart TV       1 Month              NaN  \n",
       "3       Australia   51  Female      Laptop       1 Month              NaN  \n",
       "4         Germany   33    Male  Smartphone       1 Month              NaN  "
      ]
     },
     "execution_count": 8,
     "metadata": {},
     "output_type": "execute_result"
    }
   ],
   "source": [
    "\n",
    "import pandas as pd\n",
    "\n",
    "#dataset from : https://www.kaggle.com/datasets/arnavsmayan/netflix-userbase-dataset\n",
    "data = pd.read_csv('C:\\\\Users\\\\ramra\\\\Netflix Userbase\\\\Netflix Userbase New.csv')\n",
    "\n",
    "#Convert Join date and Late Payment col from sting to data time \n",
    "#Set errors to convert invaild date to NaT \n",
    "data['Join Date'] = pd.to_datetime(data['Join Date'], format='%d-%m-%Y', errors='coerce')\n",
    "data['Last Payment Date'] = pd.to_datetime(data['Last Payment Date'], format='%d-%m-%Y', errors='coerce')\n",
    "\n",
    "# Calculate the tenure in months\n",
    "data['Tenure (Months)'] = (data['Last Payment Date'] - data['Join Date']).dt.days / 30\n",
    "\n",
    "#Display first 5 rows\n",
    "data.head()\n",
    "\n"
   ]
  },
  {
   "cell_type": "markdown",
   "id": "c494898e",
   "metadata": {},
   "source": [
    "\n",
    "## Exploratory Data Analysis (EDA)\n",
    "\n",
    "### Descriptive Statistics\n",
    "We begin by describing the data to get a feel for the distributions and central tendencies of the variables.\n",
    "\n",
    "\n"
   ]
  },
  {
   "cell_type": "code",
   "execution_count": 16,
   "id": "2b7ddbde",
   "metadata": {},
   "outputs": [
    {
     "data": {
      "text/html": [
       "<div>\n",
       "<style scoped>\n",
       "    .dataframe tbody tr th:only-of-type {\n",
       "        vertical-align: middle;\n",
       "    }\n",
       "\n",
       "    .dataframe tbody tr th {\n",
       "        vertical-align: top;\n",
       "    }\n",
       "\n",
       "    .dataframe thead th {\n",
       "        text-align: right;\n",
       "    }\n",
       "</style>\n",
       "<table border=\"1\" class=\"dataframe\">\n",
       "  <thead>\n",
       "    <tr style=\"text-align: right;\">\n",
       "      <th></th>\n",
       "      <th>User ID</th>\n",
       "      <th>Monthly Revenue</th>\n",
       "      <th>Join Date</th>\n",
       "      <th>Last Payment Date</th>\n",
       "      <th>Age</th>\n",
       "      <th>Tenure (Months)</th>\n",
       "    </tr>\n",
       "  </thead>\n",
       "  <tbody>\n",
       "    <tr>\n",
       "      <th>count</th>\n",
       "      <td>2500.00000</td>\n",
       "      <td>2500.000000</td>\n",
       "      <td>0</td>\n",
       "      <td>0</td>\n",
       "      <td>2500.000000</td>\n",
       "      <td>0.0</td>\n",
       "    </tr>\n",
       "    <tr>\n",
       "      <th>mean</th>\n",
       "      <td>1250.50000</td>\n",
       "      <td>12.508400</td>\n",
       "      <td>NaT</td>\n",
       "      <td>NaT</td>\n",
       "      <td>38.795600</td>\n",
       "      <td>NaN</td>\n",
       "    </tr>\n",
       "    <tr>\n",
       "      <th>min</th>\n",
       "      <td>1.00000</td>\n",
       "      <td>10.000000</td>\n",
       "      <td>NaT</td>\n",
       "      <td>NaT</td>\n",
       "      <td>26.000000</td>\n",
       "      <td>NaN</td>\n",
       "    </tr>\n",
       "    <tr>\n",
       "      <th>25%</th>\n",
       "      <td>625.75000</td>\n",
       "      <td>11.000000</td>\n",
       "      <td>NaT</td>\n",
       "      <td>NaT</td>\n",
       "      <td>32.000000</td>\n",
       "      <td>NaN</td>\n",
       "    </tr>\n",
       "    <tr>\n",
       "      <th>50%</th>\n",
       "      <td>1250.50000</td>\n",
       "      <td>12.000000</td>\n",
       "      <td>NaT</td>\n",
       "      <td>NaT</td>\n",
       "      <td>39.000000</td>\n",
       "      <td>NaN</td>\n",
       "    </tr>\n",
       "    <tr>\n",
       "      <th>75%</th>\n",
       "      <td>1875.25000</td>\n",
       "      <td>14.000000</td>\n",
       "      <td>NaT</td>\n",
       "      <td>NaT</td>\n",
       "      <td>45.000000</td>\n",
       "      <td>NaN</td>\n",
       "    </tr>\n",
       "    <tr>\n",
       "      <th>max</th>\n",
       "      <td>2500.00000</td>\n",
       "      <td>15.000000</td>\n",
       "      <td>NaT</td>\n",
       "      <td>NaT</td>\n",
       "      <td>51.000000</td>\n",
       "      <td>NaN</td>\n",
       "    </tr>\n",
       "    <tr>\n",
       "      <th>std</th>\n",
       "      <td>721.83216</td>\n",
       "      <td>1.686851</td>\n",
       "      <td>NaN</td>\n",
       "      <td>NaN</td>\n",
       "      <td>7.171778</td>\n",
       "      <td>NaN</td>\n",
       "    </tr>\n",
       "  </tbody>\n",
       "</table>\n",
       "</div>"
      ],
      "text/plain": [
       "          User ID  Monthly Revenue Join Date Last Payment Date          Age  \\\n",
       "count  2500.00000      2500.000000         0                 0  2500.000000   \n",
       "mean   1250.50000        12.508400       NaT               NaT    38.795600   \n",
       "min       1.00000        10.000000       NaT               NaT    26.000000   \n",
       "25%     625.75000        11.000000       NaT               NaT    32.000000   \n",
       "50%    1250.50000        12.000000       NaT               NaT    39.000000   \n",
       "75%    1875.25000        14.000000       NaT               NaT    45.000000   \n",
       "max    2500.00000        15.000000       NaT               NaT    51.000000   \n",
       "std     721.83216         1.686851       NaN               NaN     7.171778   \n",
       "\n",
       "       Tenure (Months)  \n",
       "count              0.0  \n",
       "mean               NaN  \n",
       "min                NaN  \n",
       "25%                NaN  \n",
       "50%                NaN  \n",
       "75%                NaN  \n",
       "max                NaN  \n",
       "std                NaN  "
      ]
     },
     "execution_count": 16,
     "metadata": {},
     "output_type": "execute_result"
    }
   ],
   "source": [
    "data.describe()"
   ]
  },
  {
   "cell_type": "markdown",
   "id": "3d83f5c0",
   "metadata": {},
   "source": [
    "### Visualizations\n",
    "Visualizations are used to explore the data further, focusing on distributions of age, monthly revenue, and tenure.\n"
   ]
  },
  {
   "cell_type": "code",
   "execution_count": 19,
   "id": "18f9e850",
   "metadata": {},
   "outputs": [
    {
     "name": "stderr",
     "output_type": "stream",
     "text": [
      "C:\\Users\\ramra\\AppData\\Local\\Temp\\ipykernel_58744\\669655183.py:10: FutureWarning: use_inf_as_na option is deprecated and will be removed in a future version. Convert inf values to NaN before operating instead.\n",
      "  with pd.option_context('mode.use_inf_as_na', True):\n",
      "C:\\Users\\ramra\\anaconda3\\Lib\\site-packages\\seaborn\\_oldcore.py:1119: FutureWarning: use_inf_as_na option is deprecated and will be removed in a future version. Convert inf values to NaN before operating instead.\n",
      "  with pd.option_context('mode.use_inf_as_na', True):\n"
     ]
    },
    {
     "data": {
      "image/png": "[encoded data removed]",
      "text/plain": [
       "<Figure size 640x480 with 1 Axes>"
      ]
     },
     "metadata": {},
     "output_type": "display_data"
    }
   ],
   "source": [
    "import numpy as np\n",
    "import pandas as pd\n",
    "import seaborn as sns\n",
    "import matplotlib.pyplot as plt\n",
    "\n",
    "# Covert infinites to NaN \n",
    "data['Age'] = data['Age'].replace([np.inf,-np.inf],np.mean)\n",
    "\n",
    "# Use pandas option context to treat infinities as NaN during plotting\n",
    "with pd.option_context('mode.use_inf_as_na', True):\n",
    "    # Plotting the distribution of age\n",
    "    sns.histplot(data['Age'].dropna())  # Drop NaN values for clean plotting\n",
    "    plt.title('Distribution of Age')\n",
    "    plt.show()\n",
    "\n"
   ]
  },
  {
   "cell_type": "markdown",
   "id": "cf083fc6",
   "metadata": {},
   "source": [
    "The distrutuion is fairly similar suggesting ages 25-50 have a similar count."
   ]
  },
  {
   "cell_type": "markdown",
   "id": "7d0c56e6",
   "metadata": {},
   "source": [
    "\n",
    "## Research Questions and Answers\n",
    "\n",
    "### Question 1: How does the average monthly revenue vary by subscription type?\n",
    "We group the data by subscription type and calculate the average revenue.\n",
    "\n"
   ]
  },
  {
   "cell_type": "code",
   "execution_count": 15,
   "id": "ba7d0009",
   "metadata": {},
   "outputs": [
    {
     "name": "stdout",
     "output_type": "stream",
     "text": [
      "Subscription Type\n",
      "Basic       12.481481\n",
      "Premium     12.590723\n",
      "Standard    12.464844\n",
      "Name: Monthly Revenue, dtype: float64\n"
     ]
    }
   ],
   "source": [
    "\n",
    "# Average revenue by subscription type\n",
    "print(data.groupby('Subscription Type')['Monthly Revenue'].mean())\n",
    "\n"
   ]
  },
  {
   "cell_type": "markdown",
   "id": "f96df6e1",
   "metadata": {},
   "source": [
    "### Question 2: What is the average age of users by country?\n",
    "This question examines if certain countries have older or younger userbases on average."
   ]
  },
  {
   "cell_type": "code",
   "execution_count": 14,
   "id": "6409941f",
   "metadata": {},
   "outputs": [
    {
     "name": "stdout",
     "output_type": "stream",
     "text": [
      "Country\n",
      "Australia         38.355191\n",
      "Brazil            38.327869\n",
      "Canada            38.697161\n",
      "France            39.109290\n",
      "Germany           39.038251\n",
      "Italy             38.551913\n",
      "Mexico            38.830601\n",
      "Spain             38.800443\n",
      "United Kingdom    39.191257\n",
      "United States     38.926829\n",
      "Name: Age, dtype: float64\n"
     ]
    }
   ],
   "source": [
    "# Average age by country\n",
    "print(data.groupby('Country')['Age'].mean())"
   ]
  },
  {
   "cell_type": "markdown",
   "id": "a9d449f3",
   "metadata": {},
   "source": [
    "It is suprising to know the average age of user is 38 or 39.\n",
    "    "
   ]
  },
  {
   "cell_type": "markdown",
   "id": "ceed1b43",
   "metadata": {},
   "source": [
    "\n",
    "## Conclusion\n",
    "\n",
    "### Summary of Findings\n",
    "- The average monthly revenue is relatively consistent across subscription types.\n",
    "- The user base's age varies slightly by country, which may affect content preferences.\n",
    "\n"
   ]
  }
 ],
 "metadata": {
  "kernelspec": {
   "display_name": "Python 3 (ipykernel)",
   "language": "python",
   "name": "python3"
  },
  "language_info": {
   "codemirror_mode": {
    "name": "ipython",
    "version": 3
   },
   "file_extension": ".py",
   "mimetype": "text/x-python",
   "name": "python",
   "nbconvert_exporter": "python",
   "pygments_lexer": "ipython3",
   "version": "3.11.7"
  }
 },
 "nbformat": 4,
 "nbformat_minor": 5
}
